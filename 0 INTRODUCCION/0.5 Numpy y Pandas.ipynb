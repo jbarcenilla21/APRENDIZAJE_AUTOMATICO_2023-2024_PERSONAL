{
 "cells": [
  {
   "cell_type": "markdown",
   "metadata": {},
   "source": [
    "# NumPy"
   ]
  },
  {
   "cell_type": "markdown",
   "metadata": {},
   "source": [
    "```\n",
    "$ /opt/anaconda3/bin/python -m pip install --upgrade numpy\n",
    "```\n",
    "\n",
    "`NumPy` y `Pandas`, dos bibliotecas muy útiles para el análisis de datos en Python y que están fuertemente relacionadas con `scikit-learn`"
   ]
  },
  {
   "cell_type": "markdown",
   "metadata": {},
   "source": [
    "Proporciona tipos de datos para **almacenar de manera eficiente secuencias de valores numéricos** y operar sobre ellos. Los almacena con un **tamaño fijo** y los almacena en **regiones contiguas de memoria**, lo que permite una comunicación sencilla con otros lenguajes de programación como C, C++ y Fortran (de hecho, varias funciones de la biblioteca están escritas en estos lenguajes para maximizar el rendimiento)."
   ]
  },
  {
   "cell_type": "markdown",
   "metadata": {},
   "source": [
    "`NumPy` ofrece `ndarray`, un **array n-dimensional** de elementos el **mismo tipo** (los usa `Pandas` internamente, no los veremos). El acceso a estos elementos se realiza de manera natural mediante sus **coordenadas en el espacio n-dimensional**. `NumPy` ofrece distintos **tipos de datos numéricos**, entre los que destacan:"
   ]
  },
  {
   "cell_type": "markdown",
   "metadata": {},
   "source": [
    "* int8, int16, int32 e int64 : **enteros con signo** de 8, 16, 32 y 64 bits.\n",
    "* uint8, uint16, uint32 e uint64: **enteros sin signo** de 8, 16, 32 y 64 bits.\n",
    "* float16, float32 y float64: **números en coma flotante** de 16, 32 y 64 bits.\n",
    "* complex64 y complex128: **números complejos** formados por **dos números en coma flotante** de 32 y 64 bits, respectivamente."
   ]
  },
  {
   "cell_type": "code",
   "execution_count": 1,
   "metadata": {},
   "outputs": [
    {
     "data": {
      "text/plain": [
       "'1.20.2'"
      ]
     },
     "execution_count": 1,
     "metadata": {},
     "output_type": "execute_result"
    }
   ],
   "source": [
    "# Ejemplo en el que se crea un vector de 3 dimensiones y una matriz 3x3 y se opera con ellos\n",
    "import numpy as np\n",
    "from numpy import linalg # Biblioteca de álgebra lineal\n",
    "\n",
    "np.__version__"
   ]
  },
  {
   "cell_type": "code",
   "execution_count": 2,
   "metadata": {},
   "outputs": [
    {
     "name": "stdout",
     "output_type": "stream",
     "text": [
      "[1 2 3]\n",
      "2\n",
      "[[1 2 3]\n",
      " [0 1 4]\n",
      " [5 6 0]]\n",
      "6\n",
      "[16 22 11]\n",
      "[[-24.  18.   5.]\n",
      " [ 20. -15.  -4.]\n",
      " [ -5.   4.   1.]]\n",
      "[[ 1.00000000e+00 -3.55271368e-15  0.00000000e+00]\n",
      " [ 0.00000000e+00  1.00000000e+00  0.00000000e+00]\n",
      " [ 0.00000000e+00  0.00000000e+00  1.00000000e+00]]\n"
     ]
    }
   ],
   "source": [
    "# Ejemplo mínimo de NumPy\n",
    "# A partir de `np` podemos crear objetos de tipos `ndarray` y acceder a sus elementos\n",
    "\n",
    "v = np.array([1,2,3])\n",
    "print(v)\n",
    "print(v[1])\n",
    "\n",
    "m = np.array([[1,2,3],[0,1,4],[5,6,0]])\n",
    "print(m)\n",
    "print(m[2,1])\n",
    "\n",
    "# Hemos usado la función `array` para crear un vector v con 3 elementos (objeto `ndarray` de una dimensión) y \n",
    "# una matriz m de tamaño 3x3 (objeto `ndarray` de dos dimensiones)\n",
    "# El acceso a sus elementos se realiza con el operador [], indicando los índices en cada dimensión\n",
    "\n",
    "# Multiplicación vector-matriz\n",
    "print(v @ m)\n",
    "\n",
    "# Inversa de una matriz\n",
    "m_inv = linalg.inv(m)\n",
    "print(m_inv)\n",
    "\n",
    "# Multiplicación matriz-(inversa matriz)\n",
    "print(m @ m_inv)"
   ]
  },
  {
   "cell_type": "markdown",
   "metadata": {},
   "source": [
    "# Pandas (PYTHON DATA ANALYSIS LIBRARY)"
   ]
  },
  {
   "cell_type": "markdown",
   "metadata": {},
   "source": [
    "```\n",
    "$ /opt/anaconda3/bin/python -m pip install --upgrade pandas\n",
    "```\n",
    "\n",
    "Está construida sobre `NumPy`, y proporciona clases muy útiles para analizar datos como `Series` o `DataFrame`. \n",
    "\n",
    "* `Series` permite representar una secuencia de valores utilizando un índice personalizado (enteros, cadenas de texto, etc.) para acceder a ellos. \n",
    "* `DataFrame` nos permite representar datos como si de una tabla o una hoja de cálculo se tratase. Un objeto DataFrame dispone de varias columnas etiquetadas con cadenas de texto, y cada una de ellas está indexada. De esta manera podremos acceder fácilmente a cualquier celda a partir de sus coordenadas. Veremos solo la clase `DataFrame`"
   ]
  },
  {
   "cell_type": "markdown",
   "metadata": {},
   "source": [
    "## Carga DataFrame desde fichero"
   ]
  },
  {
   "cell_type": "markdown",
   "metadata": {},
   "source": [
    "Pruebas con conjunto de datos sobre los pasajeros del Titanic, muy popular para practicar aprendizaje automático. [Datos Titanic](https://github.com/agconti/kaggle-titanic) \n",
    "\n",
    "Fichero CSV de 891 filas y 12 columnas para cada fila:\n",
    "\n",
    "1. **PassengerId**: identificador único de cada pasajero, números naturales consecutivos comenzando desde 0.\n",
    "2. **Survived**: indica si el pasajero sobrevivió (valor 1) o pereció (valor 0).\n",
    "3. **Pclass**: clase del billete comprado, que puede ser primera clase (1), segunda clase (2) o tercera clase (3).\n",
    "4. **Name**: nombre completo del pasajero, incluyendo títulos como “Mr.”, “Mrs.”, “Master”, etc. Se representa como una cadena de texto.\n",
    "5. **Sex**: sexo del pasajero, que puede ser “female” o “male”. Se representa como una cadena de texto.\n",
    "6. **Age**: edad del pasajero como número real. En esta columna existen 177 filas que carecen de dicho valor.\n",
    "7. **SibSp**: número de hermanos o cónyuges que viajaban en el Titanic. Cuenta también hermanastros, pero no amantes o personas comprometidas para casarse. Esta columna almacena un número natural.\n",
    "8. **Parch**: número de padres e hijos del pasajero que viajaban en el Titanic. Tiene en cuenta hijastros. Algunos niños viajaban a cargo únicamente de su cuidador/a, así que en esos casos la columna tiene el valor 0. Esta columna almacena un número natural.\n",
    "9. **Ticket**: número que identifica el billete adquirido. Se representa como una cadena de texto y toma 681 valores diferentes.\n",
    "10. **Fare**: tarifa pagada al comprar el billete, representado como un número real positivo.\n",
    "11. **Cabin**: número de camarote en el que se alojaba el pasajero, representado como una cadena de texto. Existen 148 valores diferentes así que había bastantes pasajeros que compartían camarote.\n",
    "12. **Embarked**: puerto en el que embarcó el pasajero. Toma 3 valores representados como cadenas de texto: “C” para Cherbourg, “Q” para Queenstown y “S” para Southampton. Hay 2 filas a las que les falta este valor.\n",
    "\n",
    "Hay columnas que almacenan números enteros, números naturales y hasta cadenas de texto. Además, algunas columnas carecen de valores en algunas filas, lo que se conoce como valores vacíos (missing values). \n",
    "\n",
    "`Pandas` soporta un amplio catálogo de formatos: **CSV, TSV, JSON, HTML, Parquet, HDF5...**. Como los datos sobre pasajeros del Titanic están almacenados en un fichero **CSV** utilizaremos la función `read_csv` de la biblioteca Pandas"
   ]
  },
  {
   "cell_type": "code",
   "execution_count": 3,
   "metadata": {},
   "outputs": [
    {
     "data": {
      "text/plain": [
       "'1.2.4'"
      ]
     },
     "execution_count": 3,
     "metadata": {},
     "output_type": "execute_result"
    }
   ],
   "source": [
    "import pandas as pd\n",
    "pd.__version__"
   ]
  },
  {
   "cell_type": "code",
   "execution_count": 4,
   "metadata": {},
   "outputs": [],
   "source": [
    "# Carga el fichero \n",
    "df = pd.read_csv('./estructuras_datos/titanic.csv')"
   ]
  },
  {
   "cell_type": "markdown",
   "metadata": {},
   "source": [
    "Hemos utilizado los valores por defecto para todos sus parámetros. Sin embargo, Pandas nos permite:\n",
    "\n",
    "* Seleccionar el carácter separador (se podría cambiar a ‘\\t’ para leer ficheros TSV) \n",
    "* Indicar manualmente el nombre de las columnas si el fichero no tiene cabecera.\n",
    "* Determinar diferentes valores que deben considerar como True y False\n",
    "* Seleccionar una codificación concreta del fichero. \n",
    "...\n",
    "...permite más de 50 parámetros,solo para el proceso de lectura.\n",
    "* funciones **read_json**, **read_html**, **read_parquet**, **read_excel**..."
   ]
  },
  {
   "cell_type": "code",
   "execution_count": 5,
   "metadata": {},
   "outputs": [
    {
     "name": "stdout",
     "output_type": "stream",
     "text": [
      "                     Asociación  Importe total  Importe justificado  Restante\n",
      "0          AMPA ANTONIO MACHADO        2344.99                    0  -2344.99\n",
      "1   AMPA BACHILLER ALONSO LOPEZ        3200.00                    0  -3200.00\n",
      "2                 AMPA CASTILLA        2604.44                    0  -2604.44\n",
      "3          AMPA DAOIZ Y VELARDE        3152.74                    0  -3152.74\n",
      "4            AMPA EMILIO CASADO        3015.67                    0  -3015.67\n",
      "5    AMPA FEDERICO GARCIA LORCA        1919.06                    0  -1919.06\n",
      "6          AMPA GABRIEL Y GALAN        2741.51                    0  -2741.51\n",
      "7              AMPA LUIS BUÑUEL        2081.00                    0  -2081.00\n",
      "8         AMPA MIGUEL HERNANDEZ        2923.35                    0  -2923.35\n",
      "9               AMPA MIRAFLORES        2787.21                    0  -2787.21\n",
      "10         AMPA PARQUE CATALUÑA        2604.44                    0  -2604.44\n",
      "11  AMPA PROFESOR TIERNO GALVÁN        1286.00                    0  -1286.00\n",
      "12       AMPA SEIS DE DICIEMBRE        1950.00                    0  -1950.00\n",
      "13            AMPA VALDEPALITOS        3929.50                    0  -3929.50\n",
      "14              AMPA LA CHOPERA        1430.00                    0  -1430.00\n",
      "15             AMPA EL CUQUILLO        1507.83                    0  -1507.83\n",
      "16            AMPA VALDELAPARRA        2465.00                    0  -2465.00\n",
      "17                AMPA RIVENDEL        2200.00                    0  -2200.00\n",
      "18                   AMPA AGORA        2421.67                    0  -2421.67\n",
      "19               AMPA ALDEBARAN        3107.05                    0  -3107.05\n",
      "20       AMPA GINER DE LOS RIOS        2058.00                    0  -2058.00\n",
      "21            AMPA SEVERO OCHOA        3563.97                    0  -3563.97\n",
      "22        AMPA VIRGEN DE LA PAZ        1416.45                    0  -1416.45\n",
      "23              AMPA JUAN XXIII        1781.98                    0  -1781.98\n",
      "24             AMPA SAN ANTONIO        2101.83                    0  -2101.83\n",
      "25         AMPA PADRE  MANYANET        2695.82                    0  -2695.82\n",
      "26                    AMPA FAPA        3198.43                    0  -3198.43\n"
     ]
    }
   ],
   "source": [
    "# Lectura de todas las hojas de './estructuras_datos/subvenciones_totales.xls', devuelve un diccionario ordenado (str, DataFrame)\n",
    "subvenciones = pd.read_excel('./estructuras_datos/subvenciones_totales.xls', sheet_name=None)\n",
    "print(subvenciones['Totales'])"
   ]
  },
  {
   "cell_type": "markdown",
   "metadata": {},
   "source": [
    "* Por defecto únicamente carga la primera página del fichero, por eso hemos incluido el parámetro **sheet_name=None** para que cargue todas las hojas del fichero y devuelva un diccionario ordenado de objetos `DataFrame`, asociados al nombre de la hoja. \n",
    "* A partir de este diccionario podemos acceder a cualquier hoja a partir de su nombre, como en `subvenciones[‘Totales’]`. \n",
    "* En el caso de seleccionar una única hoja devolvería directamente un DataFrame. \n",
    "* Por defecto utiliza los valores de la fila 0 como nombres de columna, aunque se puede cambiar a través del parámetro `header`. \n",
    "* Al igual que `read_csv`, `read_excel` admite **una veintena de parámetros** para configurar de manera precisa cómo se lee el fichero y se vuelca en un `DataFrame`. \n",
    "* Es importante darse cuenta de que las **fórmulas no son incorporadas al DataFrame**, sino que **únicamente se incluye el valor calculado** al abrir el fichero."
   ]
  },
  {
   "cell_type": "markdown",
   "metadata": {},
   "source": [
    "## Visualizar y extraer información"
   ]
  },
  {
   "cell_type": "markdown",
   "metadata": {},
   "source": [
    "Una vez hemos cargado un objeto `DataFrame`, visualizar su contenido es tan sencillo como devolver dicho valor en una celda de Jupyter. El sistema mostrará una **tabla interactiva** en la que veremos marcada la fila actual según nos desplazamos."
   ]
  },
  {
   "cell_type": "code",
   "execution_count": 6,
   "metadata": {},
   "outputs": [
    {
     "data": {
      "text/html": [
       "<div>\n",
       "<style scoped>\n",
       "    .dataframe tbody tr th:only-of-type {\n",
       "        vertical-align: middle;\n",
       "    }\n",
       "\n",
       "    .dataframe tbody tr th {\n",
       "        vertical-align: top;\n",
       "    }\n",
       "\n",
       "    .dataframe thead th {\n",
       "        text-align: right;\n",
       "    }\n",
       "</style>\n",
       "<table border=\"1\" class=\"dataframe\">\n",
       "  <thead>\n",
       "    <tr style=\"text-align: right;\">\n",
       "      <th></th>\n",
       "      <th>PassengerId</th>\n",
       "      <th>Survived</th>\n",
       "      <th>Pclass</th>\n",
       "      <th>Name</th>\n",
       "      <th>Sex</th>\n",
       "      <th>Age</th>\n",
       "      <th>SibSp</th>\n",
       "      <th>Parch</th>\n",
       "      <th>Ticket</th>\n",
       "      <th>Fare</th>\n",
       "      <th>Cabin</th>\n",
       "      <th>Embarked</th>\n",
       "    </tr>\n",
       "  </thead>\n",
       "  <tbody>\n",
       "    <tr>\n",
       "      <th>0</th>\n",
       "      <td>1</td>\n",
       "      <td>0</td>\n",
       "      <td>3</td>\n",
       "      <td>Braund, Mr. Owen Harris</td>\n",
       "      <td>male</td>\n",
       "      <td>22.0</td>\n",
       "      <td>1</td>\n",
       "      <td>0</td>\n",
       "      <td>A/5 21171</td>\n",
       "      <td>7.2500</td>\n",
       "      <td>NaN</td>\n",
       "      <td>S</td>\n",
       "    </tr>\n",
       "    <tr>\n",
       "      <th>1</th>\n",
       "      <td>2</td>\n",
       "      <td>1</td>\n",
       "      <td>1</td>\n",
       "      <td>Cumings, Mrs. John Bradley (Florence Briggs Th...</td>\n",
       "      <td>female</td>\n",
       "      <td>38.0</td>\n",
       "      <td>1</td>\n",
       "      <td>0</td>\n",
       "      <td>PC 17599</td>\n",
       "      <td>71.2833</td>\n",
       "      <td>C85</td>\n",
       "      <td>C</td>\n",
       "    </tr>\n",
       "    <tr>\n",
       "      <th>2</th>\n",
       "      <td>3</td>\n",
       "      <td>1</td>\n",
       "      <td>3</td>\n",
       "      <td>Heikkinen, Miss. Laina</td>\n",
       "      <td>female</td>\n",
       "      <td>26.0</td>\n",
       "      <td>0</td>\n",
       "      <td>0</td>\n",
       "      <td>STON/O2. 3101282</td>\n",
       "      <td>7.9250</td>\n",
       "      <td>NaN</td>\n",
       "      <td>S</td>\n",
       "    </tr>\n",
       "    <tr>\n",
       "      <th>3</th>\n",
       "      <td>4</td>\n",
       "      <td>1</td>\n",
       "      <td>1</td>\n",
       "      <td>Futrelle, Mrs. Jacques Heath (Lily May Peel)</td>\n",
       "      <td>female</td>\n",
       "      <td>35.0</td>\n",
       "      <td>1</td>\n",
       "      <td>0</td>\n",
       "      <td>113803</td>\n",
       "      <td>53.1000</td>\n",
       "      <td>C123</td>\n",
       "      <td>S</td>\n",
       "    </tr>\n",
       "    <tr>\n",
       "      <th>4</th>\n",
       "      <td>5</td>\n",
       "      <td>0</td>\n",
       "      <td>3</td>\n",
       "      <td>Allen, Mr. William Henry</td>\n",
       "      <td>male</td>\n",
       "      <td>35.0</td>\n",
       "      <td>0</td>\n",
       "      <td>0</td>\n",
       "      <td>373450</td>\n",
       "      <td>8.0500</td>\n",
       "      <td>NaN</td>\n",
       "      <td>S</td>\n",
       "    </tr>\n",
       "    <tr>\n",
       "      <th>...</th>\n",
       "      <td>...</td>\n",
       "      <td>...</td>\n",
       "      <td>...</td>\n",
       "      <td>...</td>\n",
       "      <td>...</td>\n",
       "      <td>...</td>\n",
       "      <td>...</td>\n",
       "      <td>...</td>\n",
       "      <td>...</td>\n",
       "      <td>...</td>\n",
       "      <td>...</td>\n",
       "      <td>...</td>\n",
       "    </tr>\n",
       "    <tr>\n",
       "      <th>886</th>\n",
       "      <td>887</td>\n",
       "      <td>0</td>\n",
       "      <td>2</td>\n",
       "      <td>Montvila, Rev. Juozas</td>\n",
       "      <td>male</td>\n",
       "      <td>27.0</td>\n",
       "      <td>0</td>\n",
       "      <td>0</td>\n",
       "      <td>211536</td>\n",
       "      <td>13.0000</td>\n",
       "      <td>NaN</td>\n",
       "      <td>S</td>\n",
       "    </tr>\n",
       "    <tr>\n",
       "      <th>887</th>\n",
       "      <td>888</td>\n",
       "      <td>1</td>\n",
       "      <td>1</td>\n",
       "      <td>Graham, Miss. Margaret Edith</td>\n",
       "      <td>female</td>\n",
       "      <td>19.0</td>\n",
       "      <td>0</td>\n",
       "      <td>0</td>\n",
       "      <td>112053</td>\n",
       "      <td>30.0000</td>\n",
       "      <td>B42</td>\n",
       "      <td>S</td>\n",
       "    </tr>\n",
       "    <tr>\n",
       "      <th>888</th>\n",
       "      <td>889</td>\n",
       "      <td>0</td>\n",
       "      <td>3</td>\n",
       "      <td>Johnston, Miss. Catherine Helen \"Carrie\"</td>\n",
       "      <td>female</td>\n",
       "      <td>NaN</td>\n",
       "      <td>1</td>\n",
       "      <td>2</td>\n",
       "      <td>W./C. 6607</td>\n",
       "      <td>23.4500</td>\n",
       "      <td>NaN</td>\n",
       "      <td>S</td>\n",
       "    </tr>\n",
       "    <tr>\n",
       "      <th>889</th>\n",
       "      <td>890</td>\n",
       "      <td>1</td>\n",
       "      <td>1</td>\n",
       "      <td>Behr, Mr. Karl Howell</td>\n",
       "      <td>male</td>\n",
       "      <td>26.0</td>\n",
       "      <td>0</td>\n",
       "      <td>0</td>\n",
       "      <td>111369</td>\n",
       "      <td>30.0000</td>\n",
       "      <td>C148</td>\n",
       "      <td>C</td>\n",
       "    </tr>\n",
       "    <tr>\n",
       "      <th>890</th>\n",
       "      <td>891</td>\n",
       "      <td>0</td>\n",
       "      <td>3</td>\n",
       "      <td>Dooley, Mr. Patrick</td>\n",
       "      <td>male</td>\n",
       "      <td>32.0</td>\n",
       "      <td>0</td>\n",
       "      <td>0</td>\n",
       "      <td>370376</td>\n",
       "      <td>7.7500</td>\n",
       "      <td>NaN</td>\n",
       "      <td>Q</td>\n",
       "    </tr>\n",
       "  </tbody>\n",
       "</table>\n",
       "<p>891 rows × 12 columns</p>\n",
       "</div>"
      ],
      "text/plain": [
       "     PassengerId  Survived  Pclass  \\\n",
       "0              1         0       3   \n",
       "1              2         1       1   \n",
       "2              3         1       3   \n",
       "3              4         1       1   \n",
       "4              5         0       3   \n",
       "..           ...       ...     ...   \n",
       "886          887         0       2   \n",
       "887          888         1       1   \n",
       "888          889         0       3   \n",
       "889          890         1       1   \n",
       "890          891         0       3   \n",
       "\n",
       "                                                  Name     Sex   Age  SibSp  \\\n",
       "0                              Braund, Mr. Owen Harris    male  22.0      1   \n",
       "1    Cumings, Mrs. John Bradley (Florence Briggs Th...  female  38.0      1   \n",
       "2                               Heikkinen, Miss. Laina  female  26.0      0   \n",
       "3         Futrelle, Mrs. Jacques Heath (Lily May Peel)  female  35.0      1   \n",
       "4                             Allen, Mr. William Henry    male  35.0      0   \n",
       "..                                                 ...     ...   ...    ...   \n",
       "886                              Montvila, Rev. Juozas    male  27.0      0   \n",
       "887                       Graham, Miss. Margaret Edith  female  19.0      0   \n",
       "888           Johnston, Miss. Catherine Helen \"Carrie\"  female   NaN      1   \n",
       "889                              Behr, Mr. Karl Howell    male  26.0      0   \n",
       "890                                Dooley, Mr. Patrick    male  32.0      0   \n",
       "\n",
       "     Parch            Ticket     Fare Cabin Embarked  \n",
       "0        0         A/5 21171   7.2500   NaN        S  \n",
       "1        0          PC 17599  71.2833   C85        C  \n",
       "2        0  STON/O2. 3101282   7.9250   NaN        S  \n",
       "3        0            113803  53.1000  C123        S  \n",
       "4        0            373450   8.0500   NaN        S  \n",
       "..     ...               ...      ...   ...      ...  \n",
       "886      0            211536  13.0000   NaN        S  \n",
       "887      0            112053  30.0000   B42        S  \n",
       "888      2        W./C. 6607  23.4500   NaN        S  \n",
       "889      0            111369  30.0000  C148        C  \n",
       "890      0            370376   7.7500   NaN        Q  \n",
       "\n",
       "[891 rows x 12 columns]"
      ]
     },
     "execution_count": 6,
     "metadata": {},
     "output_type": "execute_result"
    }
   ],
   "source": [
    "# Visualizar el principio y final de un DataFrame\n",
    "df"
   ]
  },
  {
   "cell_type": "markdown",
   "metadata": {},
   "source": [
    "Si en lugar de usar las facilidades de Jupyter invocamos a la función **print**, entonces el `DataFrame` será representado como una cadena de texto y mostrado. Si el `DataFrame` es demasiado grande su salida será truncada, mostrando únicamente las primeras y últimas filas."
   ]
  },
  {
   "cell_type": "code",
   "execution_count": 7,
   "metadata": {},
   "outputs": [
    {
     "name": "stdout",
     "output_type": "stream",
     "text": [
      "     PassengerId  Survived  Pclass  \\\n",
      "0              1         0       3   \n",
      "1              2         1       1   \n",
      "2              3         1       3   \n",
      "3              4         1       1   \n",
      "4              5         0       3   \n",
      "..           ...       ...     ...   \n",
      "886          887         0       2   \n",
      "887          888         1       1   \n",
      "888          889         0       3   \n",
      "889          890         1       1   \n",
      "890          891         0       3   \n",
      "\n",
      "                                                  Name     Sex   Age  SibSp  \\\n",
      "0                              Braund, Mr. Owen Harris    male  22.0      1   \n",
      "1    Cumings, Mrs. John Bradley (Florence Briggs Th...  female  38.0      1   \n",
      "2                               Heikkinen, Miss. Laina  female  26.0      0   \n",
      "3         Futrelle, Mrs. Jacques Heath (Lily May Peel)  female  35.0      1   \n",
      "4                             Allen, Mr. William Henry    male  35.0      0   \n",
      "..                                                 ...     ...   ...    ...   \n",
      "886                              Montvila, Rev. Juozas    male  27.0      0   \n",
      "887                       Graham, Miss. Margaret Edith  female  19.0      0   \n",
      "888           Johnston, Miss. Catherine Helen \"Carrie\"  female   NaN      1   \n",
      "889                              Behr, Mr. Karl Howell    male  26.0      0   \n",
      "890                                Dooley, Mr. Patrick    male  32.0      0   \n",
      "\n",
      "     Parch            Ticket     Fare Cabin Embarked  \n",
      "0        0         A/5 21171   7.2500   NaN        S  \n",
      "1        0          PC 17599  71.2833   C85        C  \n",
      "2        0  STON/O2. 3101282   7.9250   NaN        S  \n",
      "3        0            113803  53.1000  C123        S  \n",
      "4        0            373450   8.0500   NaN        S  \n",
      "..     ...               ...      ...   ...      ...  \n",
      "886      0            211536  13.0000   NaN        S  \n",
      "887      0            112053  30.0000   B42        S  \n",
      "888      2        W./C. 6607  23.4500   NaN        S  \n",
      "889      0            111369  30.0000  C148        C  \n",
      "890      0            370376   7.7500   NaN        Q  \n",
      "\n",
      "[891 rows x 12 columns]\n"
     ]
    }
   ],
   "source": [
    "# Mostrar el principio y final de un DataFrame, en modo texto\n",
    "print(df)"
   ]
  },
  {
   "cell_type": "code",
   "execution_count": 8,
   "metadata": {},
   "outputs": [
    {
     "data": {
      "text/plain": [
       "Index(['PassengerId', 'Survived', 'Pclass', 'Name', 'Sex', 'Age', 'SibSp',\n",
       "       'Parch', 'Ticket', 'Fare', 'Cabin', 'Embarked'],\n",
       "      dtype='object')"
      ]
     },
     "execution_count": 8,
     "metadata": {},
     "output_type": "execute_result"
    }
   ],
   "source": [
    "# Índice pandas con las columnas de un DataFrame\n",
    "df.columns"
   ]
  },
  {
   "cell_type": "code",
   "execution_count": 9,
   "metadata": {},
   "outputs": [
    {
     "data": {
      "text/plain": [
       "(891, 12)"
      ]
     },
     "execution_count": 9,
     "metadata": {},
     "output_type": "execute_result"
    }
   ],
   "source": [
    "# Tamaño de un DataFrame\n",
    "# shape nos devuelve una pareja con el número de filas y el número de columnas\n",
    "df.shape"
   ]
  },
  {
   "cell_type": "markdown",
   "metadata": {},
   "source": [
    "Los `DataFrames` admiten diversas formas de acceder a su contenido, aunque lo más común es utilizar los atributos accesores `iloc` y `loc`. Ambos sirven para acceder a una porción de la tabla. \n",
    "\n",
    "* `iloc` recibe números indicando las posiciones de las filas y columnas deseadas. Si se pasa un único parámetro, se considera como el índice o índices de las filas a mostrar. Si se pasan dos parámetros, el primero será el índice o índices de las filas, y el segundo será el índice o índices de las columnas a seleccionar. Los parámetros pueden ser números, rangos o listas de números (**los parámetros se pasarán utilizando corchetes en lugar de los paréntesis**) ->  realmente estamos invocando al método `__getitem__` del atributo `iloc` y no a un método directo del DataFrame\n",
    "* `loc` para referirnos a fragmentos de la tabla **utilizando los índices**. En el **índice horizontal** tendremos los **nombres de las columnas**, y en el **índice vertical** usualmente tendremos **posiciones empezando desde 0**. `loc` recibe uno o dos parámetros, con el mismo funcionamiento que en `iloc`. \n",
    "\n",
    "Ejemplo `iloc`:\n",
    "\n",
    "* df.iloc\\[5\\] -> Fila en la posición 5, es decir, la 6a fila.\n",
    "* df.iloc\\[:2\\] -> Filas en el rango \\[0,2), la fila en posición 2 no es incluida.\n",
    "* df.iloc\\[0,0\\] -> Celda en la posición (0,0).\n",
    "* df.iloc\\[\\[0,10,12\\],3:6] ->  Filas 0, 10 y 12; y de ellas las columnas con posiciones en el rango \\[3,6). La columna en posición 6 no es in cluida."
   ]
  },
  {
   "cell_type": "code",
   "execution_count": 10,
   "metadata": {},
   "outputs": [
    {
     "name": "stdout",
     "output_type": "stream",
     "text": [
      "<class 'pandas.core.indexing._iLocIndexer'>\n"
     ]
    }
   ],
   "source": [
    "# .iloc para seleccionar por posición\n",
    "print(type(df.iloc))"
   ]
  },
  {
   "cell_type": "code",
   "execution_count": 11,
   "metadata": {},
   "outputs": [
    {
     "data": {
      "text/plain": [
       "PassengerId                   6\n",
       "Survived                      0\n",
       "Pclass                        3\n",
       "Name           Moran, Mr. James\n",
       "Sex                        male\n",
       "Age                         NaN\n",
       "SibSp                         0\n",
       "Parch                         0\n",
       "Ticket                   330877\n",
       "Fare                     8.4583\n",
       "Cabin                       NaN\n",
       "Embarked                      Q\n",
       "Name: 5, dtype: object"
      ]
     },
     "metadata": {},
     "output_type": "display_data"
    }
   ],
   "source": [
    "display(df.iloc[5])   # Fila en la posición 5"
   ]
  },
  {
   "cell_type": "code",
   "execution_count": 12,
   "metadata": {},
   "outputs": [
    {
     "data": {
      "text/html": [
       "<div>\n",
       "<style scoped>\n",
       "    .dataframe tbody tr th:only-of-type {\n",
       "        vertical-align: middle;\n",
       "    }\n",
       "\n",
       "    .dataframe tbody tr th {\n",
       "        vertical-align: top;\n",
       "    }\n",
       "\n",
       "    .dataframe thead th {\n",
       "        text-align: right;\n",
       "    }\n",
       "</style>\n",
       "<table border=\"1\" class=\"dataframe\">\n",
       "  <thead>\n",
       "    <tr style=\"text-align: right;\">\n",
       "      <th></th>\n",
       "      <th>PassengerId</th>\n",
       "      <th>Survived</th>\n",
       "      <th>Pclass</th>\n",
       "      <th>Name</th>\n",
       "      <th>Sex</th>\n",
       "      <th>Age</th>\n",
       "      <th>SibSp</th>\n",
       "      <th>Parch</th>\n",
       "      <th>Ticket</th>\n",
       "      <th>Fare</th>\n",
       "      <th>Cabin</th>\n",
       "      <th>Embarked</th>\n",
       "    </tr>\n",
       "  </thead>\n",
       "  <tbody>\n",
       "    <tr>\n",
       "      <th>0</th>\n",
       "      <td>1</td>\n",
       "      <td>0</td>\n",
       "      <td>3</td>\n",
       "      <td>Braund, Mr. Owen Harris</td>\n",
       "      <td>male</td>\n",
       "      <td>22.0</td>\n",
       "      <td>1</td>\n",
       "      <td>0</td>\n",
       "      <td>A/5 21171</td>\n",
       "      <td>7.2500</td>\n",
       "      <td>NaN</td>\n",
       "      <td>S</td>\n",
       "    </tr>\n",
       "    <tr>\n",
       "      <th>1</th>\n",
       "      <td>2</td>\n",
       "      <td>1</td>\n",
       "      <td>1</td>\n",
       "      <td>Cumings, Mrs. John Bradley (Florence Briggs Th...</td>\n",
       "      <td>female</td>\n",
       "      <td>38.0</td>\n",
       "      <td>1</td>\n",
       "      <td>0</td>\n",
       "      <td>PC 17599</td>\n",
       "      <td>71.2833</td>\n",
       "      <td>C85</td>\n",
       "      <td>C</td>\n",
       "    </tr>\n",
       "  </tbody>\n",
       "</table>\n",
       "</div>"
      ],
      "text/plain": [
       "   PassengerId  Survived  Pclass  \\\n",
       "0            1         0       3   \n",
       "1            2         1       1   \n",
       "\n",
       "                                                Name     Sex   Age  SibSp  \\\n",
       "0                            Braund, Mr. Owen Harris    male  22.0      1   \n",
       "1  Cumings, Mrs. John Bradley (Florence Briggs Th...  female  38.0      1   \n",
       "\n",
       "   Parch     Ticket     Fare Cabin Embarked  \n",
       "0      0  A/5 21171   7.2500   NaN        S  \n",
       "1      0   PC 17599  71.2833   C85        C  "
      ]
     },
     "metadata": {},
     "output_type": "display_data"
    }
   ],
   "source": [
    "display(df.iloc[:2])  # Filas en el rango [0,2)"
   ]
  },
  {
   "cell_type": "code",
   "execution_count": 13,
   "metadata": {},
   "outputs": [
    {
     "data": {
      "text/plain": [
       "1"
      ]
     },
     "metadata": {},
     "output_type": "display_data"
    }
   ],
   "source": [
    "display(df.iloc[0,0]) # Celda (0,0)"
   ]
  },
  {
   "cell_type": "code",
   "execution_count": 14,
   "metadata": {},
   "outputs": [
    {
     "data": {
      "text/html": [
       "<div>\n",
       "<style scoped>\n",
       "    .dataframe tbody tr th:only-of-type {\n",
       "        vertical-align: middle;\n",
       "    }\n",
       "\n",
       "    .dataframe tbody tr th {\n",
       "        vertical-align: top;\n",
       "    }\n",
       "\n",
       "    .dataframe thead th {\n",
       "        text-align: right;\n",
       "    }\n",
       "</style>\n",
       "<table border=\"1\" class=\"dataframe\">\n",
       "  <thead>\n",
       "    <tr style=\"text-align: right;\">\n",
       "      <th></th>\n",
       "      <th>Name</th>\n",
       "    </tr>\n",
       "  </thead>\n",
       "  <tbody>\n",
       "    <tr>\n",
       "      <th>0</th>\n",
       "      <td>Braund, Mr. Owen Harris</td>\n",
       "    </tr>\n",
       "    <tr>\n",
       "      <th>10</th>\n",
       "      <td>Sandstrom, Miss. Marguerite Rut</td>\n",
       "    </tr>\n",
       "    <tr>\n",
       "      <th>12</th>\n",
       "      <td>Saundercock, Mr. William Henry</td>\n",
       "    </tr>\n",
       "  </tbody>\n",
       "</table>\n",
       "</div>"
      ],
      "text/plain": [
       "                               Name\n",
       "0           Braund, Mr. Owen Harris\n",
       "10  Sandstrom, Miss. Marguerite Rut\n",
       "12   Saundercock, Mr. William Henry"
      ]
     },
     "metadata": {},
     "output_type": "display_data"
    }
   ],
   "source": [
    "display(df.iloc[[0,10,12],3:4]) # Filas 0, 10 y 12, columnas 3:4"
   ]
  },
  {
   "cell_type": "markdown",
   "metadata": {},
   "source": [
    "Ejemplo `loc`:\n",
    "\n",
    "* df.loc\\[0\\] -> Fila con índice 0.\n",
    "* df.loc\\[0,’Fare’\\] -> Fila con índice 0 y columna `Fare`.\n",
    "* df.loc\\[:3, ‘Sex’:’Fare’\\] -> Filas con índices en el rango \\[0,3\\] y columnas entre `Sex` y `Fare`. En este caso ambos extremos se incluyen, tanto en filas como en columnas.\n",
    "* df.loc\\[:3, \\[’Sex’,’Fare’,’Embarked’\\]\\] -> Filas con índices en el rango \\[0,3\\] y columnas con nombre `Sex`, `Fare` y `Embarked`."
   ]
  },
  {
   "cell_type": "code",
   "execution_count": 15,
   "metadata": {},
   "outputs": [
    {
     "name": "stdout",
     "output_type": "stream",
     "text": [
      "<class 'pandas.core.indexing._LocIndexer'>\n"
     ]
    }
   ],
   "source": [
    "# .iloc para seleccionar usando los índices\n",
    "print(type(df.loc))"
   ]
  },
  {
   "cell_type": "code",
   "execution_count": 16,
   "metadata": {},
   "outputs": [
    {
     "data": {
      "text/plain": [
       "PassengerId                          1\n",
       "Survived                             0\n",
       "Pclass                               3\n",
       "Name           Braund, Mr. Owen Harris\n",
       "Sex                               male\n",
       "Age                               22.0\n",
       "SibSp                                1\n",
       "Parch                                0\n",
       "Ticket                       A/5 21171\n",
       "Fare                              7.25\n",
       "Cabin                              NaN\n",
       "Embarked                             S\n",
       "Name: 0, dtype: object"
      ]
     },
     "metadata": {},
     "output_type": "display_data"
    }
   ],
   "source": [
    "display(df.loc[0])                # Fila con índice 0"
   ]
  },
  {
   "cell_type": "code",
   "execution_count": 17,
   "metadata": {},
   "outputs": [
    {
     "data": {
      "text/plain": [
       "7.25"
      ]
     },
     "metadata": {},
     "output_type": "display_data"
    }
   ],
   "source": [
    "display(df.loc[0,'Fare'])         # celda de la fila 0 y columna 'Fare'"
   ]
  },
  {
   "cell_type": "code",
   "execution_count": 18,
   "metadata": {},
   "outputs": [
    {
     "data": {
      "text/html": [
       "<div>\n",
       "<style scoped>\n",
       "    .dataframe tbody tr th:only-of-type {\n",
       "        vertical-align: middle;\n",
       "    }\n",
       "\n",
       "    .dataframe tbody tr th {\n",
       "        vertical-align: top;\n",
       "    }\n",
       "\n",
       "    .dataframe thead th {\n",
       "        text-align: right;\n",
       "    }\n",
       "</style>\n",
       "<table border=\"1\" class=\"dataframe\">\n",
       "  <thead>\n",
       "    <tr style=\"text-align: right;\">\n",
       "      <th></th>\n",
       "      <th>Sex</th>\n",
       "      <th>Age</th>\n",
       "      <th>SibSp</th>\n",
       "      <th>Parch</th>\n",
       "      <th>Ticket</th>\n",
       "      <th>Fare</th>\n",
       "    </tr>\n",
       "  </thead>\n",
       "  <tbody>\n",
       "    <tr>\n",
       "      <th>0</th>\n",
       "      <td>male</td>\n",
       "      <td>22.0</td>\n",
       "      <td>1</td>\n",
       "      <td>0</td>\n",
       "      <td>A/5 21171</td>\n",
       "      <td>7.2500</td>\n",
       "    </tr>\n",
       "    <tr>\n",
       "      <th>1</th>\n",
       "      <td>female</td>\n",
       "      <td>38.0</td>\n",
       "      <td>1</td>\n",
       "      <td>0</td>\n",
       "      <td>PC 17599</td>\n",
       "      <td>71.2833</td>\n",
       "    </tr>\n",
       "    <tr>\n",
       "      <th>2</th>\n",
       "      <td>female</td>\n",
       "      <td>26.0</td>\n",
       "      <td>0</td>\n",
       "      <td>0</td>\n",
       "      <td>STON/O2. 3101282</td>\n",
       "      <td>7.9250</td>\n",
       "    </tr>\n",
       "    <tr>\n",
       "      <th>3</th>\n",
       "      <td>female</td>\n",
       "      <td>35.0</td>\n",
       "      <td>1</td>\n",
       "      <td>0</td>\n",
       "      <td>113803</td>\n",
       "      <td>53.1000</td>\n",
       "    </tr>\n",
       "  </tbody>\n",
       "</table>\n",
       "</div>"
      ],
      "text/plain": [
       "      Sex   Age  SibSp  Parch            Ticket     Fare\n",
       "0    male  22.0      1      0         A/5 21171   7.2500\n",
       "1  female  38.0      1      0          PC 17599  71.2833\n",
       "2  female  26.0      0      0  STON/O2. 3101282   7.9250\n",
       "3  female  35.0      1      0            113803  53.1000"
      ]
     },
     "metadata": {},
     "output_type": "display_data"
    }
   ],
   "source": [
    "display(df.loc[:3, 'Sex':'Fare']) # Filas 0:3 (incluidas) en las columnas 'Sex':'Fare' (incluidas)"
   ]
  },
  {
   "cell_type": "code",
   "execution_count": 19,
   "metadata": {},
   "outputs": [
    {
     "data": {
      "text/html": [
       "<div>\n",
       "<style scoped>\n",
       "    .dataframe tbody tr th:only-of-type {\n",
       "        vertical-align: middle;\n",
       "    }\n",
       "\n",
       "    .dataframe tbody tr th {\n",
       "        vertical-align: top;\n",
       "    }\n",
       "\n",
       "    .dataframe thead th {\n",
       "        text-align: right;\n",
       "    }\n",
       "</style>\n",
       "<table border=\"1\" class=\"dataframe\">\n",
       "  <thead>\n",
       "    <tr style=\"text-align: right;\">\n",
       "      <th></th>\n",
       "      <th>Sex</th>\n",
       "      <th>Fare</th>\n",
       "      <th>Embarked</th>\n",
       "    </tr>\n",
       "  </thead>\n",
       "  <tbody>\n",
       "    <tr>\n",
       "      <th>0</th>\n",
       "      <td>male</td>\n",
       "      <td>7.2500</td>\n",
       "      <td>S</td>\n",
       "    </tr>\n",
       "    <tr>\n",
       "      <th>1</th>\n",
       "      <td>female</td>\n",
       "      <td>71.2833</td>\n",
       "      <td>C</td>\n",
       "    </tr>\n",
       "    <tr>\n",
       "      <th>2</th>\n",
       "      <td>female</td>\n",
       "      <td>7.9250</td>\n",
       "      <td>S</td>\n",
       "    </tr>\n",
       "    <tr>\n",
       "      <th>3</th>\n",
       "      <td>female</td>\n",
       "      <td>53.1000</td>\n",
       "      <td>S</td>\n",
       "    </tr>\n",
       "  </tbody>\n",
       "</table>\n",
       "</div>"
      ],
      "text/plain": [
       "      Sex     Fare Embarked\n",
       "0    male   7.2500        S\n",
       "1  female  71.2833        C\n",
       "2  female   7.9250        S\n",
       "3  female  53.1000        S"
      ]
     },
     "metadata": {},
     "output_type": "display_data"
    }
   ],
   "source": [
    "display(df.loc[:3, ['Sex','Fare','Embarked']]) # Filas 0:3 (incluidas) en las columnas 'Sex','Fare' y 'Embarked'"
   ]
  },
  {
   "cell_type": "code",
   "execution_count": 20,
   "metadata": {},
   "outputs": [
    {
     "data": {
      "text/html": [
       "<div>\n",
       "<style scoped>\n",
       "    .dataframe tbody tr th:only-of-type {\n",
       "        vertical-align: middle;\n",
       "    }\n",
       "\n",
       "    .dataframe tbody tr th {\n",
       "        vertical-align: top;\n",
       "    }\n",
       "\n",
       "    .dataframe thead th {\n",
       "        text-align: right;\n",
       "    }\n",
       "</style>\n",
       "<table border=\"1\" class=\"dataframe\">\n",
       "  <thead>\n",
       "    <tr style=\"text-align: right;\">\n",
       "      <th></th>\n",
       "      <th>PassengerId</th>\n",
       "      <th>Survived</th>\n",
       "      <th>Pclass</th>\n",
       "      <th>Name</th>\n",
       "      <th>Sex</th>\n",
       "      <th>Age</th>\n",
       "      <th>SibSp</th>\n",
       "      <th>Parch</th>\n",
       "      <th>Ticket</th>\n",
       "      <th>Fare</th>\n",
       "      <th>Cabin</th>\n",
       "      <th>Embarked</th>\n",
       "    </tr>\n",
       "  </thead>\n",
       "  <tbody>\n",
       "    <tr>\n",
       "      <th>96</th>\n",
       "      <td>97</td>\n",
       "      <td>0</td>\n",
       "      <td>1</td>\n",
       "      <td>Goldschmidt, Mr. George B</td>\n",
       "      <td>male</td>\n",
       "      <td>71.0</td>\n",
       "      <td>0</td>\n",
       "      <td>0</td>\n",
       "      <td>PC 17754</td>\n",
       "      <td>34.6542</td>\n",
       "      <td>A5</td>\n",
       "      <td>C</td>\n",
       "    </tr>\n",
       "    <tr>\n",
       "      <th>116</th>\n",
       "      <td>117</td>\n",
       "      <td>0</td>\n",
       "      <td>3</td>\n",
       "      <td>Connors, Mr. Patrick</td>\n",
       "      <td>male</td>\n",
       "      <td>70.5</td>\n",
       "      <td>0</td>\n",
       "      <td>0</td>\n",
       "      <td>370369</td>\n",
       "      <td>7.7500</td>\n",
       "      <td>NaN</td>\n",
       "      <td>Q</td>\n",
       "    </tr>\n",
       "    <tr>\n",
       "      <th>493</th>\n",
       "      <td>494</td>\n",
       "      <td>0</td>\n",
       "      <td>1</td>\n",
       "      <td>Artagaveytia, Mr. Ramon</td>\n",
       "      <td>male</td>\n",
       "      <td>71.0</td>\n",
       "      <td>0</td>\n",
       "      <td>0</td>\n",
       "      <td>PC 17609</td>\n",
       "      <td>49.5042</td>\n",
       "      <td>NaN</td>\n",
       "      <td>C</td>\n",
       "    </tr>\n",
       "    <tr>\n",
       "      <th>630</th>\n",
       "      <td>631</td>\n",
       "      <td>1</td>\n",
       "      <td>1</td>\n",
       "      <td>Barkworth, Mr. Algernon Henry Wilson</td>\n",
       "      <td>male</td>\n",
       "      <td>80.0</td>\n",
       "      <td>0</td>\n",
       "      <td>0</td>\n",
       "      <td>27042</td>\n",
       "      <td>30.0000</td>\n",
       "      <td>A23</td>\n",
       "      <td>S</td>\n",
       "    </tr>\n",
       "    <tr>\n",
       "      <th>851</th>\n",
       "      <td>852</td>\n",
       "      <td>0</td>\n",
       "      <td>3</td>\n",
       "      <td>Svensson, Mr. Johan</td>\n",
       "      <td>male</td>\n",
       "      <td>74.0</td>\n",
       "      <td>0</td>\n",
       "      <td>0</td>\n",
       "      <td>347060</td>\n",
       "      <td>7.7750</td>\n",
       "      <td>NaN</td>\n",
       "      <td>S</td>\n",
       "    </tr>\n",
       "  </tbody>\n",
       "</table>\n",
       "</div>"
      ],
      "text/plain": [
       "     PassengerId  Survived  Pclass                                  Name  \\\n",
       "96            97         0       1             Goldschmidt, Mr. George B   \n",
       "116          117         0       3                  Connors, Mr. Patrick   \n",
       "493          494         0       1               Artagaveytia, Mr. Ramon   \n",
       "630          631         1       1  Barkworth, Mr. Algernon Henry Wilson   \n",
       "851          852         0       3                   Svensson, Mr. Johan   \n",
       "\n",
       "      Sex   Age  SibSp  Parch    Ticket     Fare Cabin Embarked  \n",
       "96   male  71.0      0      0  PC 17754  34.6542    A5        C  \n",
       "116  male  70.5      0      0    370369   7.7500   NaN        Q  \n",
       "493  male  71.0      0      0  PC 17609  49.5042   NaN        C  \n",
       "630  male  80.0      0      0     27042  30.0000   A23        S  \n",
       "851  male  74.0      0      0    347060   7.7750   NaN        S  "
      ]
     },
     "metadata": {},
     "output_type": "display_data"
    }
   ],
   "source": [
    "display(df.loc[df['Age']> 70])    # Filas con 'Age' > 70"
   ]
  },
  {
   "cell_type": "code",
   "execution_count": 21,
   "metadata": {},
   "outputs": [
    {
     "data": {
      "text/html": [
       "<div>\n",
       "<style scoped>\n",
       "    .dataframe tbody tr th:only-of-type {\n",
       "        vertical-align: middle;\n",
       "    }\n",
       "\n",
       "    .dataframe tbody tr th {\n",
       "        vertical-align: top;\n",
       "    }\n",
       "\n",
       "    .dataframe thead th {\n",
       "        text-align: right;\n",
       "    }\n",
       "</style>\n",
       "<table border=\"1\" class=\"dataframe\">\n",
       "  <thead>\n",
       "    <tr style=\"text-align: right;\">\n",
       "      <th></th>\n",
       "      <th>Age</th>\n",
       "      <th>Sex</th>\n",
       "    </tr>\n",
       "  </thead>\n",
       "  <tbody>\n",
       "    <tr>\n",
       "      <th>96</th>\n",
       "      <td>71.0</td>\n",
       "      <td>male</td>\n",
       "    </tr>\n",
       "    <tr>\n",
       "      <th>116</th>\n",
       "      <td>70.5</td>\n",
       "      <td>male</td>\n",
       "    </tr>\n",
       "    <tr>\n",
       "      <th>493</th>\n",
       "      <td>71.0</td>\n",
       "      <td>male</td>\n",
       "    </tr>\n",
       "    <tr>\n",
       "      <th>630</th>\n",
       "      <td>80.0</td>\n",
       "      <td>male</td>\n",
       "    </tr>\n",
       "    <tr>\n",
       "      <th>851</th>\n",
       "      <td>74.0</td>\n",
       "      <td>male</td>\n",
       "    </tr>\n",
       "  </tbody>\n",
       "</table>\n",
       "</div>"
      ],
      "text/plain": [
       "      Age   Sex\n",
       "96   71.0  male\n",
       "116  70.5  male\n",
       "493  71.0  male\n",
       "630  80.0  male\n",
       "851  74.0  male"
      ]
     },
     "metadata": {},
     "output_type": "display_data"
    }
   ],
   "source": [
    "display(df.loc[df['Age']> 70, ['Age','Sex']])    # Filas con 'Age' > 70, mostrar la columna 'Sex'"
   ]
  },
  {
   "cell_type": "markdown",
   "metadata": {},
   "source": [
    "Tipos almacenados en cada columna con `df.dtypes` que es un objeto `Series` de Pandas indexado por nombre de columna. \n",
    "Son los mismos tipos de datos que los de `NumPy`, donde `object` será cadena de texto para la mayoría de los casos. "
   ]
  },
  {
   "cell_type": "code",
   "execution_count": 22,
   "metadata": {},
   "outputs": [
    {
     "data": {
      "text/plain": [
       "PassengerId      int64\n",
       "Survived         int64\n",
       "Pclass           int64\n",
       "Name            object\n",
       "Sex             object\n",
       "Age            float64\n",
       "SibSp            int64\n",
       "Parch            int64\n",
       "Ticket          object\n",
       "Fare           float64\n",
       "Cabin           object\n",
       "Embarked        object\n",
       "dtype: object"
      ]
     },
     "execution_count": 22,
     "metadata": {},
     "output_type": "execute_result"
    }
   ],
   "source": [
    "df.dtypes"
   ]
  },
  {
   "cell_type": "markdown",
   "metadata": {},
   "source": [
    "Para las **columnas numéricas**, **Pandas** nos proporciona descripción completa con método `describe`-> devuelve nuevo `DataFrame` resumen. \n",
    "Nos muestra algunas medidas estadísticas como la **media**, la **desviación típica**, valores **mínimos** y **máximos** e incluso los **cuartiles**. \n",
    "También nos indica el **número de valores incluidos**, **cantidad de valores vacíos** que existen en cada columna:"
   ]
  },
  {
   "cell_type": "code",
   "execution_count": 23,
   "metadata": {},
   "outputs": [
    {
     "data": {
      "text/html": [
       "<div>\n",
       "<style scoped>\n",
       "    .dataframe tbody tr th:only-of-type {\n",
       "        vertical-align: middle;\n",
       "    }\n",
       "\n",
       "    .dataframe tbody tr th {\n",
       "        vertical-align: top;\n",
       "    }\n",
       "\n",
       "    .dataframe thead th {\n",
       "        text-align: right;\n",
       "    }\n",
       "</style>\n",
       "<table border=\"1\" class=\"dataframe\">\n",
       "  <thead>\n",
       "    <tr style=\"text-align: right;\">\n",
       "      <th></th>\n",
       "      <th>PassengerId</th>\n",
       "      <th>Survived</th>\n",
       "      <th>Pclass</th>\n",
       "      <th>Age</th>\n",
       "      <th>SibSp</th>\n",
       "      <th>Parch</th>\n",
       "      <th>Fare</th>\n",
       "    </tr>\n",
       "  </thead>\n",
       "  <tbody>\n",
       "    <tr>\n",
       "      <th>count</th>\n",
       "      <td>891.000000</td>\n",
       "      <td>891.000000</td>\n",
       "      <td>891.000000</td>\n",
       "      <td>714.000000</td>\n",
       "      <td>891.000000</td>\n",
       "      <td>891.000000</td>\n",
       "      <td>891.000000</td>\n",
       "    </tr>\n",
       "    <tr>\n",
       "      <th>mean</th>\n",
       "      <td>446.000000</td>\n",
       "      <td>0.383838</td>\n",
       "      <td>2.308642</td>\n",
       "      <td>29.699118</td>\n",
       "      <td>0.523008</td>\n",
       "      <td>0.381594</td>\n",
       "      <td>32.204208</td>\n",
       "    </tr>\n",
       "    <tr>\n",
       "      <th>std</th>\n",
       "      <td>257.353842</td>\n",
       "      <td>0.486592</td>\n",
       "      <td>0.836071</td>\n",
       "      <td>14.526497</td>\n",
       "      <td>1.102743</td>\n",
       "      <td>0.806057</td>\n",
       "      <td>49.693429</td>\n",
       "    </tr>\n",
       "    <tr>\n",
       "      <th>min</th>\n",
       "      <td>1.000000</td>\n",
       "      <td>0.000000</td>\n",
       "      <td>1.000000</td>\n",
       "      <td>0.420000</td>\n",
       "      <td>0.000000</td>\n",
       "      <td>0.000000</td>\n",
       "      <td>0.000000</td>\n",
       "    </tr>\n",
       "    <tr>\n",
       "      <th>25%</th>\n",
       "      <td>223.500000</td>\n",
       "      <td>0.000000</td>\n",
       "      <td>2.000000</td>\n",
       "      <td>20.125000</td>\n",
       "      <td>0.000000</td>\n",
       "      <td>0.000000</td>\n",
       "      <td>7.910400</td>\n",
       "    </tr>\n",
       "    <tr>\n",
       "      <th>50%</th>\n",
       "      <td>446.000000</td>\n",
       "      <td>0.000000</td>\n",
       "      <td>3.000000</td>\n",
       "      <td>28.000000</td>\n",
       "      <td>0.000000</td>\n",
       "      <td>0.000000</td>\n",
       "      <td>14.454200</td>\n",
       "    </tr>\n",
       "    <tr>\n",
       "      <th>75%</th>\n",
       "      <td>668.500000</td>\n",
       "      <td>1.000000</td>\n",
       "      <td>3.000000</td>\n",
       "      <td>38.000000</td>\n",
       "      <td>1.000000</td>\n",
       "      <td>0.000000</td>\n",
       "      <td>31.000000</td>\n",
       "    </tr>\n",
       "    <tr>\n",
       "      <th>max</th>\n",
       "      <td>891.000000</td>\n",
       "      <td>1.000000</td>\n",
       "      <td>3.000000</td>\n",
       "      <td>80.000000</td>\n",
       "      <td>8.000000</td>\n",
       "      <td>6.000000</td>\n",
       "      <td>512.329200</td>\n",
       "    </tr>\n",
       "  </tbody>\n",
       "</table>\n",
       "</div>"
      ],
      "text/plain": [
       "       PassengerId    Survived      Pclass         Age       SibSp  \\\n",
       "count   891.000000  891.000000  891.000000  714.000000  891.000000   \n",
       "mean    446.000000    0.383838    2.308642   29.699118    0.523008   \n",
       "std     257.353842    0.486592    0.836071   14.526497    1.102743   \n",
       "min       1.000000    0.000000    1.000000    0.420000    0.000000   \n",
       "25%     223.500000    0.000000    2.000000   20.125000    0.000000   \n",
       "50%     446.000000    0.000000    3.000000   28.000000    0.000000   \n",
       "75%     668.500000    1.000000    3.000000   38.000000    1.000000   \n",
       "max     891.000000    1.000000    3.000000   80.000000    8.000000   \n",
       "\n",
       "            Parch        Fare  \n",
       "count  891.000000  891.000000  \n",
       "mean     0.381594   32.204208  \n",
       "std      0.806057   49.693429  \n",
       "min      0.000000    0.000000  \n",
       "25%      0.000000    7.910400  \n",
       "50%      0.000000   14.454200  \n",
       "75%      0.000000   31.000000  \n",
       "max      6.000000  512.329200  "
      ]
     },
     "execution_count": 23,
     "metadata": {},
     "output_type": "execute_result"
    }
   ],
   "source": [
    "df.describe()"
   ]
  },
  {
   "cell_type": "markdown",
   "metadata": {},
   "source": [
    "Vemos que la columna Age tiene 714 valores no vacíos, siendo 0,42 el valor mínimo y 80 el valor máximo. Además, sabemos que la edad media es de 29,7 años, con una desviación típica de 14,52. El método describe también nos permite conocer que la edad mediana es 28 años, y que los pasajeros en la mitad central tenían una edad entre 20,125 y 38 años (lo que se conoce como rango intercuartílico)."
   ]
  },
  {
   "cell_type": "markdown",
   "metadata": {},
   "source": [
    "El método `describe` también puede devolver medidas informativas para las columnas no numéricas, (la media o los cuartiles aparecerán como `NaN` por cuestiones obvias). Para ellos pasamos el parámetro `include=’all’`. \n",
    "`unique`, nos indica el número de valores diferentes que hay. También aparecen las filas `top`, que contienen el elemento más repetido, y `freq`, que indican el número de repeticiones de dicho elemento más común."
   ]
  },
  {
   "cell_type": "code",
   "execution_count": 24,
   "metadata": {},
   "outputs": [
    {
     "name": "stdout",
     "output_type": "stream",
     "text": [
      "        PassengerId    Survived      Pclass                  Name   Sex  \\\n",
      "count    891.000000  891.000000  891.000000                   891   891   \n",
      "unique          NaN         NaN         NaN                   891     2   \n",
      "top             NaN         NaN         NaN  Cleaver, Miss. Alice  male   \n",
      "freq            NaN         NaN         NaN                     1   577   \n",
      "mean     446.000000    0.383838    2.308642                   NaN   NaN   \n",
      "std      257.353842    0.486592    0.836071                   NaN   NaN   \n",
      "min        1.000000    0.000000    1.000000                   NaN   NaN   \n",
      "25%      223.500000    0.000000    2.000000                   NaN   NaN   \n",
      "50%      446.000000    0.000000    3.000000                   NaN   NaN   \n",
      "75%      668.500000    1.000000    3.000000                   NaN   NaN   \n",
      "max      891.000000    1.000000    3.000000                   NaN   NaN   \n",
      "\n",
      "               Age       SibSp       Parch    Ticket        Fare Cabin  \\\n",
      "count   714.000000  891.000000  891.000000       891  891.000000   204   \n",
      "unique         NaN         NaN         NaN       681         NaN   147   \n",
      "top            NaN         NaN         NaN  CA. 2343         NaN    G6   \n",
      "freq           NaN         NaN         NaN         7         NaN     4   \n",
      "mean     29.699118    0.523008    0.381594       NaN   32.204208   NaN   \n",
      "std      14.526497    1.102743    0.806057       NaN   49.693429   NaN   \n",
      "min       0.420000    0.000000    0.000000       NaN    0.000000   NaN   \n",
      "25%      20.125000    0.000000    0.000000       NaN    7.910400   NaN   \n",
      "50%      28.000000    0.000000    0.000000       NaN   14.454200   NaN   \n",
      "75%      38.000000    1.000000    0.000000       NaN   31.000000   NaN   \n",
      "max      80.000000    8.000000    6.000000       NaN  512.329200   NaN   \n",
      "\n",
      "       Embarked  \n",
      "count       889  \n",
      "unique        3  \n",
      "top           S  \n",
      "freq        644  \n",
      "mean        NaN  \n",
      "std         NaN  \n",
      "min         NaN  \n",
      "25%         NaN  \n",
      "50%         NaN  \n",
      "75%         NaN  \n",
      "max         NaN  \n"
     ]
    }
   ],
   "source": [
    "# Descripción de los valores de un DataFrame\n",
    "print(df.describe(include='all'))"
   ]
  },
  {
   "cell_type": "code",
   "execution_count": 25,
   "metadata": {},
   "outputs": [
    {
     "name": "stdout",
     "output_type": "stream",
     "text": [
      "Missing values [PassengerId]: 0\n",
      "Missing values [Survived]: 0\n",
      "Missing values [Pclass]: 0\n",
      "Missing values [Name]: 0\n",
      "Missing values [Sex]: 0\n",
      "Missing values [Age]: 177\n",
      "Missing values [SibSp]: 0\n",
      "Missing values [Parch]: 0\n",
      "Missing values [Ticket]: 0\n",
      "Missing values [Fare]: 0\n",
      "Missing values [Cabin]: 687\n",
      "Missing values [Embarked]: 2\n",
      "\n",
      "Unique values [PassengerId]: 891\n",
      "Unique values [Survived]: 2\n",
      "Unique values [Pclass]: 3\n",
      "Unique values [Name]: 891\n",
      "Unique values [Sex]: 2\n",
      "Unique values [Age]: 89\n",
      "Unique values [SibSp]: 7\n",
      "Unique values [Parch]: 7\n",
      "Unique values [Ticket]: 681\n",
      "Unique values [Fare]: 248\n",
      "Unique values [Cabin]: 148\n",
      "Unique values [Embarked]: 4\n"
     ]
    }
   ],
   "source": [
    "# Código alternativo para calcular valores nulos y únicos\n",
    "\n",
    "# Valores nulos\n",
    "for c in df.columns:\n",
    "    print(\"Missing values [{0}]:\".format(c), df[c].isna().sum())\n",
    "print()\n",
    "\n",
    "# Valores únicos    \n",
    "for c in df.columns:\n",
    "    print(\"Unique values [{0}]:\".format(c), df[c].unique().size)"
   ]
  },
  {
   "cell_type": "markdown",
   "metadata": {},
   "source": [
    "## Transformar DataFrames"
   ]
  },
  {
   "cell_type": "markdown",
   "metadata": {},
   "source": [
    "Hay muchas, pero solo veremos las típicas necesarias para luego hacer **Machine Learning**"
   ]
  },
  {
   "cell_type": "code",
   "execution_count": 26,
   "metadata": {},
   "outputs": [],
   "source": [
    "# Carga el fichero \n",
    "df = pd.read_csv('./estructuras_datos/titanic.csv')"
   ]
  },
  {
   "cell_type": "markdown",
   "metadata": {},
   "source": [
    "### Primera transformación: eliminar columnas no relevantes \n",
    "**Eliminar algunas columnas que no nos parecen muy relevantes**, concretamente PassengerId, Name, Ticket y Cabin usando método `drop` pasándole una lista de nombres en su parámetro `columns`:"
   ]
  },
  {
   "cell_type": "code",
   "execution_count": 27,
   "metadata": {},
   "outputs": [],
   "source": [
    "# Elimina columnas no relevantes\n",
    "df = df.drop(columns=['PassengerId', 'Name', 'Ticket','Cabin'])"
   ]
  },
  {
   "cell_type": "markdown",
   "metadata": {},
   "source": [
    "### Segunda transformación: eliminar filas con algún valor vacío \n",
    "**Eliminar todas las filas con algún valor vacío** con el método `dropna` con los parámetros por defecto, que hace justamente eso. El método `dropna` permite configurar cómo se decidirá si una fila se elimina o no, por ejemplo, indicando que haya un mínimo de valores vacíos (parámetro `thresh`) o requiriendo que todos los valores sean vacíos (parámetro `how`)."
   ]
  },
  {
   "cell_type": "code",
   "execution_count": 28,
   "metadata": {},
   "outputs": [],
   "source": [
    "# Elimina filas con valores nulos\n",
    "df = df.dropna()"
   ]
  },
  {
   "cell_type": "markdown",
   "metadata": {},
   "source": [
    "### Tercera transformación: pasar a enteros las columnas que almacenan cadenas de texto (donde tenga sentido)\n",
    "**Transformar las columnas que almacenan cadenas de texto para que representen esa información como números naturales consecutivos a partir de 0**. Ejemplo: `Sex` (‘female’ o ‘male’) serán los valores 0 y 1; columna `Embarked` (‘C’, ‘Q’ y ‘S’) tome valores 0, 1 y 2. Usaremos l operador de selección \\[\\] el cual recibe el **nombre de una de las columnas** y la **devuelve** como una **secuencia de valores indexados**, concretamente un objeto de la clase `Series`. Estos objetos se pueden operar a través de sus métodos, y volver a introducir en el DataFrame original, por ejemplo:"
   ]
  },
  {
   "cell_type": "code",
   "execution_count": 29,
   "metadata": {},
   "outputs": [
    {
     "data": {
      "text/html": [
       "<div>\n",
       "<style scoped>\n",
       "    .dataframe tbody tr th:only-of-type {\n",
       "        vertical-align: middle;\n",
       "    }\n",
       "\n",
       "    .dataframe tbody tr th {\n",
       "        vertical-align: top;\n",
       "    }\n",
       "\n",
       "    .dataframe thead th {\n",
       "        text-align: right;\n",
       "    }\n",
       "</style>\n",
       "<table border=\"1\" class=\"dataframe\">\n",
       "  <thead>\n",
       "    <tr style=\"text-align: right;\">\n",
       "      <th></th>\n",
       "      <th>Survived</th>\n",
       "      <th>Pclass</th>\n",
       "      <th>Sex</th>\n",
       "      <th>Age</th>\n",
       "      <th>SibSp</th>\n",
       "      <th>Parch</th>\n",
       "      <th>Fare</th>\n",
       "      <th>Embarked</th>\n",
       "    </tr>\n",
       "  </thead>\n",
       "  <tbody>\n",
       "    <tr>\n",
       "      <th>0</th>\n",
       "      <td>0</td>\n",
       "      <td>3</td>\n",
       "      <td>1</td>\n",
       "      <td>22.0</td>\n",
       "      <td>1</td>\n",
       "      <td>0</td>\n",
       "      <td>7.2500</td>\n",
       "      <td>2</td>\n",
       "    </tr>\n",
       "    <tr>\n",
       "      <th>1</th>\n",
       "      <td>1</td>\n",
       "      <td>1</td>\n",
       "      <td>0</td>\n",
       "      <td>38.0</td>\n",
       "      <td>1</td>\n",
       "      <td>0</td>\n",
       "      <td>71.2833</td>\n",
       "      <td>0</td>\n",
       "    </tr>\n",
       "    <tr>\n",
       "      <th>2</th>\n",
       "      <td>1</td>\n",
       "      <td>3</td>\n",
       "      <td>0</td>\n",
       "      <td>26.0</td>\n",
       "      <td>0</td>\n",
       "      <td>0</td>\n",
       "      <td>7.9250</td>\n",
       "      <td>2</td>\n",
       "    </tr>\n",
       "    <tr>\n",
       "      <th>3</th>\n",
       "      <td>1</td>\n",
       "      <td>1</td>\n",
       "      <td>0</td>\n",
       "      <td>35.0</td>\n",
       "      <td>1</td>\n",
       "      <td>0</td>\n",
       "      <td>53.1000</td>\n",
       "      <td>2</td>\n",
       "    </tr>\n",
       "    <tr>\n",
       "      <th>4</th>\n",
       "      <td>0</td>\n",
       "      <td>3</td>\n",
       "      <td>1</td>\n",
       "      <td>35.0</td>\n",
       "      <td>0</td>\n",
       "      <td>0</td>\n",
       "      <td>8.0500</td>\n",
       "      <td>2</td>\n",
       "    </tr>\n",
       "    <tr>\n",
       "      <th>...</th>\n",
       "      <td>...</td>\n",
       "      <td>...</td>\n",
       "      <td>...</td>\n",
       "      <td>...</td>\n",
       "      <td>...</td>\n",
       "      <td>...</td>\n",
       "      <td>...</td>\n",
       "      <td>...</td>\n",
       "    </tr>\n",
       "    <tr>\n",
       "      <th>885</th>\n",
       "      <td>0</td>\n",
       "      <td>3</td>\n",
       "      <td>0</td>\n",
       "      <td>39.0</td>\n",
       "      <td>0</td>\n",
       "      <td>5</td>\n",
       "      <td>29.1250</td>\n",
       "      <td>1</td>\n",
       "    </tr>\n",
       "    <tr>\n",
       "      <th>886</th>\n",
       "      <td>0</td>\n",
       "      <td>2</td>\n",
       "      <td>1</td>\n",
       "      <td>27.0</td>\n",
       "      <td>0</td>\n",
       "      <td>0</td>\n",
       "      <td>13.0000</td>\n",
       "      <td>2</td>\n",
       "    </tr>\n",
       "    <tr>\n",
       "      <th>887</th>\n",
       "      <td>1</td>\n",
       "      <td>1</td>\n",
       "      <td>0</td>\n",
       "      <td>19.0</td>\n",
       "      <td>0</td>\n",
       "      <td>0</td>\n",
       "      <td>30.0000</td>\n",
       "      <td>2</td>\n",
       "    </tr>\n",
       "    <tr>\n",
       "      <th>889</th>\n",
       "      <td>1</td>\n",
       "      <td>1</td>\n",
       "      <td>1</td>\n",
       "      <td>26.0</td>\n",
       "      <td>0</td>\n",
       "      <td>0</td>\n",
       "      <td>30.0000</td>\n",
       "      <td>0</td>\n",
       "    </tr>\n",
       "    <tr>\n",
       "      <th>890</th>\n",
       "      <td>0</td>\n",
       "      <td>3</td>\n",
       "      <td>1</td>\n",
       "      <td>32.0</td>\n",
       "      <td>0</td>\n",
       "      <td>0</td>\n",
       "      <td>7.7500</td>\n",
       "      <td>1</td>\n",
       "    </tr>\n",
       "  </tbody>\n",
       "</table>\n",
       "<p>712 rows × 8 columns</p>\n",
       "</div>"
      ],
      "text/plain": [
       "     Survived  Pclass  Sex   Age  SibSp  Parch     Fare  Embarked\n",
       "0           0       3    1  22.0      1      0   7.2500         2\n",
       "1           1       1    0  38.0      1      0  71.2833         0\n",
       "2           1       3    0  26.0      0      0   7.9250         2\n",
       "3           1       1    0  35.0      1      0  53.1000         2\n",
       "4           0       3    1  35.0      0      0   8.0500         2\n",
       "..        ...     ...  ...   ...    ...    ...      ...       ...\n",
       "885         0       3    0  39.0      0      5  29.1250         1\n",
       "886         0       2    1  27.0      0      0  13.0000         2\n",
       "887         1       1    0  19.0      0      0  30.0000         2\n",
       "889         1       1    1  26.0      0      0  30.0000         0\n",
       "890         0       3    1  32.0      0      0   7.7500         1\n",
       "\n",
       "[712 rows x 8 columns]"
      ]
     },
     "execution_count": 29,
     "metadata": {},
     "output_type": "execute_result"
    }
   ],
   "source": [
    "# Traduce los valores categóricos de 'Sex' y 'Embarked' a número enteros\n",
    "df['Sex'] = df['Sex'].astype('category').cat.codes\n",
    "df['Embarked'] = df['Embarked'].astype('category').cat.codes\n",
    "df"
   ]
  },
  {
   "cell_type": "markdown",
   "metadata": {},
   "source": [
    "Seleccionamos una columna (`df['Sex']` y `df['Embarked']`) y mediante asignación la sustituimos por otros valores. Para calcular los valores numéricos **seleccionamos la columna**, la **reinterpretamos como una categoría** (`astype('category')`) y finalmente **de esa categoría nos quedamos con la secuencia de su representación numérica** (`cat.codes`). (Al reinterpretar la columna como una categoría, se recorren los valores detectando los valores únicos y dándoles una representación numérica única). El operador `[]` nos **devuelve un objeto de tipo `Series`**, que nos permite operar sobre él (como reinterpretarlo como categoría) pero también **asignarlo a otro objeto del mismo tipo**, como hacemos aquí. De la misma manera **podríamos añadir columnas mediante asignación** utilizando el operador `[]` con un nombre nuevo de columna: "
   ]
  },
  {
   "cell_type": "code",
   "execution_count": 30,
   "metadata": {},
   "outputs": [
    {
     "data": {
      "text/html": [
       "<div>\n",
       "<style scoped>\n",
       "    .dataframe tbody tr th:only-of-type {\n",
       "        vertical-align: middle;\n",
       "    }\n",
       "\n",
       "    .dataframe tbody tr th {\n",
       "        vertical-align: top;\n",
       "    }\n",
       "\n",
       "    .dataframe thead th {\n",
       "        text-align: right;\n",
       "    }\n",
       "</style>\n",
       "<table border=\"1\" class=\"dataframe\">\n",
       "  <thead>\n",
       "    <tr style=\"text-align: right;\">\n",
       "      <th></th>\n",
       "      <th>Survived</th>\n",
       "      <th>Pclass</th>\n",
       "      <th>Sex</th>\n",
       "      <th>Age</th>\n",
       "      <th>SibSp</th>\n",
       "      <th>Parch</th>\n",
       "      <th>Fare</th>\n",
       "      <th>Embarked</th>\n",
       "      <th>Sex_num</th>\n",
       "    </tr>\n",
       "  </thead>\n",
       "  <tbody>\n",
       "    <tr>\n",
       "      <th>0</th>\n",
       "      <td>0</td>\n",
       "      <td>3</td>\n",
       "      <td>1</td>\n",
       "      <td>22.0</td>\n",
       "      <td>1</td>\n",
       "      <td>0</td>\n",
       "      <td>7.2500</td>\n",
       "      <td>2</td>\n",
       "      <td>1</td>\n",
       "    </tr>\n",
       "    <tr>\n",
       "      <th>1</th>\n",
       "      <td>1</td>\n",
       "      <td>1</td>\n",
       "      <td>0</td>\n",
       "      <td>38.0</td>\n",
       "      <td>1</td>\n",
       "      <td>0</td>\n",
       "      <td>71.2833</td>\n",
       "      <td>0</td>\n",
       "      <td>0</td>\n",
       "    </tr>\n",
       "    <tr>\n",
       "      <th>2</th>\n",
       "      <td>1</td>\n",
       "      <td>3</td>\n",
       "      <td>0</td>\n",
       "      <td>26.0</td>\n",
       "      <td>0</td>\n",
       "      <td>0</td>\n",
       "      <td>7.9250</td>\n",
       "      <td>2</td>\n",
       "      <td>0</td>\n",
       "    </tr>\n",
       "    <tr>\n",
       "      <th>3</th>\n",
       "      <td>1</td>\n",
       "      <td>1</td>\n",
       "      <td>0</td>\n",
       "      <td>35.0</td>\n",
       "      <td>1</td>\n",
       "      <td>0</td>\n",
       "      <td>53.1000</td>\n",
       "      <td>2</td>\n",
       "      <td>0</td>\n",
       "    </tr>\n",
       "    <tr>\n",
       "      <th>4</th>\n",
       "      <td>0</td>\n",
       "      <td>3</td>\n",
       "      <td>1</td>\n",
       "      <td>35.0</td>\n",
       "      <td>0</td>\n",
       "      <td>0</td>\n",
       "      <td>8.0500</td>\n",
       "      <td>2</td>\n",
       "      <td>1</td>\n",
       "    </tr>\n",
       "    <tr>\n",
       "      <th>...</th>\n",
       "      <td>...</td>\n",
       "      <td>...</td>\n",
       "      <td>...</td>\n",
       "      <td>...</td>\n",
       "      <td>...</td>\n",
       "      <td>...</td>\n",
       "      <td>...</td>\n",
       "      <td>...</td>\n",
       "      <td>...</td>\n",
       "    </tr>\n",
       "    <tr>\n",
       "      <th>885</th>\n",
       "      <td>0</td>\n",
       "      <td>3</td>\n",
       "      <td>0</td>\n",
       "      <td>39.0</td>\n",
       "      <td>0</td>\n",
       "      <td>5</td>\n",
       "      <td>29.1250</td>\n",
       "      <td>1</td>\n",
       "      <td>0</td>\n",
       "    </tr>\n",
       "    <tr>\n",
       "      <th>886</th>\n",
       "      <td>0</td>\n",
       "      <td>2</td>\n",
       "      <td>1</td>\n",
       "      <td>27.0</td>\n",
       "      <td>0</td>\n",
       "      <td>0</td>\n",
       "      <td>13.0000</td>\n",
       "      <td>2</td>\n",
       "      <td>1</td>\n",
       "    </tr>\n",
       "    <tr>\n",
       "      <th>887</th>\n",
       "      <td>1</td>\n",
       "      <td>1</td>\n",
       "      <td>0</td>\n",
       "      <td>19.0</td>\n",
       "      <td>0</td>\n",
       "      <td>0</td>\n",
       "      <td>30.0000</td>\n",
       "      <td>2</td>\n",
       "      <td>0</td>\n",
       "    </tr>\n",
       "    <tr>\n",
       "      <th>889</th>\n",
       "      <td>1</td>\n",
       "      <td>1</td>\n",
       "      <td>1</td>\n",
       "      <td>26.0</td>\n",
       "      <td>0</td>\n",
       "      <td>0</td>\n",
       "      <td>30.0000</td>\n",
       "      <td>0</td>\n",
       "      <td>1</td>\n",
       "    </tr>\n",
       "    <tr>\n",
       "      <th>890</th>\n",
       "      <td>0</td>\n",
       "      <td>3</td>\n",
       "      <td>1</td>\n",
       "      <td>32.0</td>\n",
       "      <td>0</td>\n",
       "      <td>0</td>\n",
       "      <td>7.7500</td>\n",
       "      <td>1</td>\n",
       "      <td>1</td>\n",
       "    </tr>\n",
       "  </tbody>\n",
       "</table>\n",
       "<p>712 rows × 9 columns</p>\n",
       "</div>"
      ],
      "text/plain": [
       "     Survived  Pclass  Sex   Age  SibSp  Parch     Fare  Embarked  Sex_num\n",
       "0           0       3    1  22.0      1      0   7.2500         2        1\n",
       "1           1       1    0  38.0      1      0  71.2833         0        0\n",
       "2           1       3    0  26.0      0      0   7.9250         2        0\n",
       "3           1       1    0  35.0      1      0  53.1000         2        0\n",
       "4           0       3    1  35.0      0      0   8.0500         2        1\n",
       "..        ...     ...  ...   ...    ...    ...      ...       ...      ...\n",
       "885         0       3    0  39.0      0      5  29.1250         1        0\n",
       "886         0       2    1  27.0      0      0  13.0000         2        1\n",
       "887         1       1    0  19.0      0      0  30.0000         2        0\n",
       "889         1       1    1  26.0      0      0  30.0000         0        1\n",
       "890         0       3    1  32.0      0      0   7.7500         1        1\n",
       "\n",
       "[712 rows x 9 columns]"
      ]
     },
     "execution_count": 30,
     "metadata": {},
     "output_type": "execute_result"
    }
   ],
   "source": [
    "df['Sex_num'] = df['Sex'].astype('category').cat.codes\n",
    "df"
   ]
  },
  {
   "cell_type": "markdown",
   "metadata": {},
   "source": [
    "Como hemos comentado, existen muchas operaciones que se pueden realizar sobre columnas. Por ejemplo, **podríamos incrementar en uno la edad de todos los pasajeros** (`df['Age'] + 1`), **representar la edad en meses** (`df['Age'] * 12`), **obtener la secuencia booleana de pasajeros de edad avanzada** `(df['Age'] > 70)`, etc."
   ]
  },
  {
   "cell_type": "markdown",
   "metadata": {},
   "source": [
    "## Salvar a ficheros"
   ]
  },
  {
   "cell_type": "markdown",
   "metadata": {},
   "source": [
    "Tras las transformaciones, el último paso será **volcarlo a disco** para poder **reutilizarlo** las veces que necesitemos. **Pandas** ofrece las mismas facilidades que para su lectura. Por ejemplo, para **volcar el DataFrame a un fichero CSV** invocaríamos a `to_csv`:"
   ]
  },
  {
   "cell_type": "code",
   "execution_count": 31,
   "metadata": {},
   "outputs": [],
   "source": [
    "# A formato CSV\n",
    "df.to_csv('./estructuras_datos/titanic_ml.csv', index=False)"
   ]
  },
  {
   "cell_type": "markdown",
   "metadata": {},
   "source": [
    "Indicamos la ruta y con el parámetro `index=False` **no se incluye columna inicial con el índice de cada fila** (serían números naturales consecutivos comenzando en 0). `to_csv` admite más parámetros:\n",
    "* configurar el carácter separador (`sep`)\n",
    "* elegir qué columnas escribir (`columns`)\n",
    "* seleccionar compresión (`compression`)\n",
    "* etc.\n",
    "\n",
    "Salvar un DataFrame en **formato Excel** método `to_excel`:"
   ]
  },
  {
   "cell_type": "code",
   "execution_count": 33,
   "metadata": {},
   "outputs": [],
   "source": [
    "# A formato Excel (XLS y XLSX)\n",
    "# La hoja se llamará 'Sheet1'\n",
    "# df.to_excel('./estructuras_datos/titanic_ml.xls', index=False)\n",
    "df.to_excel('./estructuras_datos/titanic_ml.xlsx', index=False)"
   ]
  },
  {
   "cell_type": "markdown",
   "metadata": {},
   "source": [
    "`to_excel` admite diversos parámetros adicionales (nosotros hemos tomado los valores por defecto salvo `index=False`) para que no se cree una columna inicial con los índices de cada fila. Si el fichero existe, todo su contenido se perderá y únicamente contendrá la página creada a partir del DataFrame. Si queremos **añadir hojas a un fichero existente**, deberemos utilizar un objeto `ExcelWriter` en lugar de una ruta. Este objeto se crea directamente a partir de la ruta:"
   ]
  },
  {
   "cell_type": "code",
   "execution_count": 34,
   "metadata": {},
   "outputs": [],
   "source": [
    "# Insertar varias hojas en un fichero Excel\n",
    "writer = pd.ExcelWriter('./estructuras_datos/titanic_2.xlsx')\n",
    "df.to_excel(writer, sheet_name='Hoja 1', index=False)\n",
    "df.to_excel(writer, sheet_name='Hoja 2', index=False)\n",
    "writer.close()"
   ]
  },
  {
   "cell_type": "markdown",
   "metadata": {},
   "source": [
    "En este caso hemos creado un fichero `titanic_2.xlsx` con las hojas `Hoja1` y `Hoja2`, que en este caso contendrán los mismos datos. Es **importante invocar al método `close`** del objeto `ExcelWriter` para garantizar que los datos son volcados al disco y el fichero se cierra convenientemente."
   ]
  },
  {
   "cell_type": "markdown",
   "metadata": {},
   "source": [
    "## REFERENCIAS\n",
    "* Python for Data Analysis: Data Wrangling with Pandas, NumPy, and IPython (Second Edition). Wes McKinney. O’Reilly, 2017.\n",
    "* Python Data Analytics Data Analysis and Science Using Pandas, matplotlib, and the Python Programming Language. Fabio Nelli. Appress, 2015.\n",
    "* [Documentación de Pandas](https://pandas.pydata.org/pandas-docs/stable/)"
   ]
  },
  {
   "cell_type": "markdown",
   "metadata": {},
   "source": [
    "***"
   ]
  }
 ],
 "metadata": {
  "kernelspec": {
   "display_name": "Python 3",
   "language": "python",
   "name": "python3"
  },
  "language_info": {
   "codemirror_mode": {
    "name": "ipython",
    "version": 3
   },
   "file_extension": ".py",
   "mimetype": "text/x-python",
   "name": "python",
   "nbconvert_exporter": "python",
   "pygments_lexer": "ipython3",
   "version": "3.8.5"
  }
 },
 "nbformat": 4,
 "nbformat_minor": 4
}
